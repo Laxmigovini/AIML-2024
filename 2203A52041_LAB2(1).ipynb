{
  "nbformat": 4,
  "nbformat_minor": 0,
  "metadata": {
    "colab": {
      "provenance": []
    },
    "kernelspec": {
      "name": "python3",
      "display_name": "Python 3"
    },
    "language_info": {
      "name": "python"
    }
  },
  "cells": [
    {
      "cell_type": "code",
      "source": [
        "from collections import deque\n",
        "\n",
        "def bfs(graph, start):\n",
        "    visited = set()\n",
        "    queue = deque([start])\n",
        "\n",
        "    while queue:\n",
        "        vertex = queue.popleft()\n",
        "\n",
        "        if vertex not in visited:\n",
        "            print(vertex, end=' ')\n",
        "            visited.add(vertex)\n",
        "            queue.extend(neighbor for neighbor in graph[vertex] if neighbor not in visited)\n",
        "graph = {0: [1, 2], 1: [0, 3, 4], 2: [0, 4], 3: [1], 4: [1, 2]}\n",
        "start_vertex = 0\n",
        "\n",
        "print(\"BFS traversal starting from vertex\", start_vertex, \":\")\n",
        "bfs(graph, start_vertex)"
      ],
      "metadata": {
        "colab": {
          "base_uri": "https://localhost:8080/"
        },
        "id": "DZtP8PSsRG6D",
        "outputId": "def98523-00c2-4ed6-deb6-5f8a5bf0976d"
      },
      "execution_count": 6,
      "outputs": [
        {
          "output_type": "stream",
          "name": "stdout",
          "text": [
            "BFS traversal starting from vertex 0 :\n",
            "0 1 2 3 4 "
          ]
        }
      ]
    },
    {
      "cell_type": "code",
      "source": [],
      "metadata": {
        "id": "0-6PQsgPVlAf"
      },
      "execution_count": null,
      "outputs": []
    }
  ]
}