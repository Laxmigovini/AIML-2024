{
  "nbformat": 4,
  "nbformat_minor": 0,
  "metadata": {
    "colab": {
      "provenance": []
    },
    "kernelspec": {
      "name": "python3",
      "display_name": "Python 3"
    },
    "language_info": {
      "name": "python"
    }
  },
  "cells": [
    {
      "cell_type": "code",
      "execution_count": 1,
      "metadata": {
        "colab": {
          "base_uri": "https://localhost:8080/"
        },
        "id": "KV-_cITcFmUw",
        "outputId": "d228d225-5fae-4933-f6dc-95e96290f0ae"
      },
      "outputs": [
        {
          "output_type": "stream",
          "name": "stdout",
          "text": [
            "list: [1, 2, 3]\n",
            "array: [1 2 3]\n"
          ]
        },
        {
          "output_type": "execute_result",
          "data": {
            "text/plain": [
              "numpy.ndarray"
            ]
          },
          "metadata": {},
          "execution_count": 1
        }
      ],
      "source": [
        "import numpy as np\n",
        "list=[1,2,3]\n",
        "array=np.array(list)\n",
        "print(\"list:\",list)\n",
        "print(\"array:\",array)\n",
        "type(list)\n",
        "type(array)"
      ]
    },
    {
      "cell_type": "code",
      "source": [
        "import numpy as np\n",
        "list=[]\n",
        "c=int(input(\"enter elements:\"))\n",
        "for i in range(c):\n",
        "  d=int(input())\n",
        "  list.append(d)\n",
        "print(list)\n",
        "\n"
      ],
      "metadata": {
        "colab": {
          "base_uri": "https://localhost:8080/"
        },
        "id": "IqE-qqfzIRyq",
        "outputId": "ae23c44d-4f59-4a3a-d078-2ff3d0a45563"
      },
      "execution_count": 2,
      "outputs": [
        {
          "output_type": "stream",
          "name": "stdout",
          "text": [
            "enter elements:2\n",
            "5\n",
            "8\n",
            "[5, 8]\n"
          ]
        }
      ]
    },
    {
      "cell_type": "code",
      "source": [
        "type(list)"
      ],
      "metadata": {
        "colab": {
          "base_uri": "https://localhost:8080/"
        },
        "id": "5vsbw08KG_Lb",
        "outputId": "7d2210ce-50ea-48f8-e7cb-04a7774221a9"
      },
      "execution_count": 3,
      "outputs": [
        {
          "output_type": "execute_result",
          "data": {
            "text/plain": [
              "list"
            ]
          },
          "metadata": {},
          "execution_count": 3
        }
      ]
    },
    {
      "cell_type": "code",
      "source": [
        "type(array)"
      ],
      "metadata": {
        "colab": {
          "base_uri": "https://localhost:8080/"
        },
        "id": "e5kvPzOBHMTS",
        "outputId": "f66bd35c-87b9-494a-d3fc-7f7cd20641ba"
      },
      "execution_count": 4,
      "outputs": [
        {
          "output_type": "execute_result",
          "data": {
            "text/plain": [
              "numpy.ndarray"
            ]
          },
          "metadata": {},
          "execution_count": 4
        }
      ]
    },
    {
      "cell_type": "code",
      "source": [
        "array1=[5,6,7]\n",
        "array2=[8,9,6]\n",
        "q=np.add(array1,array2)\n",
        "print(q)\n",
        "w=np.subtract(array1,array2)\n",
        "print(w)\n",
        "e=np.multiply(array1,array2)\n",
        "print(e)\n",
        "r=np.divide(array1,array2)\n",
        "print(r)\n",
        "t=np.power(array1,array2)\n",
        "print(t)"
      ],
      "metadata": {
        "colab": {
          "base_uri": "https://localhost:8080/"
        },
        "id": "OtsuI498LDoq",
        "outputId": "0b5b19bc-fc60-49b1-c1d2-0753b020a7b8"
      },
      "execution_count": 5,
      "outputs": [
        {
          "output_type": "stream",
          "name": "stdout",
          "text": [
            "[13 15 13]\n",
            "[-3 -3  1]\n",
            "[40 54 42]\n",
            "[0.625      0.66666667 1.16666667]\n",
            "[  390625 10077696   117649]\n"
          ]
        }
      ]
    },
    {
      "cell_type": "code",
      "source": [
        "import numpy as np\n",
        "l1=np.array(input())\n",
        "l2=np.array(input())\n",
        "print(\"array1\",l1)\n",
        "print(\"array2\",l2)\n",
        "new_array=np.char.add(l1,l2)\n",
        "print(\"new array\",new_array)\n",
        "\n"
      ],
      "metadata": {
        "colab": {
          "base_uri": "https://localhost:8080/"
        },
        "id": "Z8avVpGkLbH5",
        "outputId": "375e4505-288a-4608-896b-a99a2bbf130c"
      },
      "execution_count": 6,
      "outputs": [
        {
          "output_type": "stream",
          "name": "stdout",
          "text": [
            "laxmi\n",
            "govini\n",
            "array1 laxmi\n",
            "array2 govini\n",
            "new array laxmigovini\n"
          ]
        }
      ]
    },
    {
      "cell_type": "code",
      "source": [
        "import numpy as np\n",
        "n=int(input(\"enter value:\"))\n",
        "g=np.sin(n)\n",
        "print(g)\n",
        "j=np.log(n)\n",
        "print(j)\n",
        "k=np.log2(n)\n",
        "print(k)\n",
        "p=np.exp(n)\n",
        "print(p)"
      ],
      "metadata": {
        "colab": {
          "base_uri": "https://localhost:8080/"
        },
        "id": "xSiz83RBOx0q",
        "outputId": "5755a80e-2fe4-4c11-ee32-62947dd8d2b2"
      },
      "execution_count": 7,
      "outputs": [
        {
          "output_type": "stream",
          "name": "stdout",
          "text": [
            "enter value:75\n",
            "-0.38778163540943045\n",
            "4.31748811353631\n",
            "6.22881869049588\n",
            "3.7332419967990015e+32\n"
          ]
        }
      ]
    }
  ]
}