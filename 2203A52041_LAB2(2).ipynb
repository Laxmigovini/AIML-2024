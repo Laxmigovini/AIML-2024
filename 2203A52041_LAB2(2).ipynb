{
  "nbformat": 4,
  "nbformat_minor": 0,
  "metadata": {
    "colab": {
      "provenance": []
    },
    "kernelspec": {
      "name": "python3",
      "display_name": "Python 3"
    },
    "language_info": {
      "name": "python"
    }
  },
  "cells": [
    {
      "cell_type": "code",
      "execution_count": 4,
      "metadata": {
        "colab": {
          "base_uri": "https://localhost:8080/"
        },
        "id": "mWHHy4YIYD5R",
        "outputId": "67207579-3fef-4bb2-a1a6-3787476f7b43"
      },
      "outputs": [
        {
          "output_type": "stream",
          "name": "stdout",
          "text": [
            "DFS traversal starting from vertex A :\n",
            "A S G H E C F D B "
          ]
        }
      ],
      "source": [
        "def dfs(graph, start):\n",
        "    visited = set()\n",
        "    stack = [start]\n",
        "\n",
        "    while stack:\n",
        "        vertex = stack.pop()\n",
        "\n",
        "        if vertex not in visited:\n",
        "            print(vertex, end=' ')\n",
        "            visited.add(vertex)\n",
        "\n",
        "            # Push unvisited neighbors onto the stack\n",
        "            stack.extend(neighbor for neighbor in graph[vertex] if neighbor not in visited)\n",
        "graph = {\n",
        "    'A': ['B', 'S'],\n",
        "    'B': [],\n",
        "    'C': ['D', 'E', 'F', 'S'],\n",
        "    'D': ['C', 'E', 'F'],\n",
        "    'E': ['C', 'H'],\n",
        "    'F': ['C', 'G', 'S'],\n",
        "    'G': ['F', 'H', 'S'],\n",
        "    'H': ['E', 'G'],\n",
        "    'S': ['A', 'C', 'G']\n",
        "    }\n",
        "start_vertex = 'A'\n",
        "\n",
        "print(\"DFS traversal starting from vertex\", start_vertex, \":\")\n",
        "dfs(graph, start_vertex)"
      ]
    },
    {
      "cell_type": "code",
      "source": [],
      "metadata": {
        "id": "Q7X0XGo7Y11w"
      },
      "execution_count": null,
      "outputs": []
    }
  ]
}